{
 "cells": [
  {
   "cell_type": "code",
   "execution_count": 1,
   "metadata": {},
   "outputs": [],
   "source": [
    "#AirQuality Notebook\n",
    "import sys\n",
    "import pandas as pd\n",
    "import json\n",
    "import requests\n",
    "import glob\n",
    "from datetime import datetime\n",
    "#from config import api"
   ]
  },
  {
   "cell_type": "code",
   "execution_count": 6,
   "metadata": {},
   "outputs": [
    {
     "ename": "SyntaxError",
     "evalue": "(unicode error) 'unicodeescape' codec can't decode bytes in position 2-3: truncated \\UXXXXXXXX escape (<ipython-input-6-642888583f0e>, line 18)",
     "output_type": "error",
     "traceback": [
      "\u001b[1;36m  File \u001b[1;32m\"<ipython-input-6-642888583f0e>\"\u001b[1;36m, line \u001b[1;32m18\u001b[0m\n\u001b[1;33m    outfile = \"C:\\Users\\Bill\\Documents\\Bootcamp\\Project1\\Air-Quality-BTroolin\\aqi_output.json\"\u001b[0m\n\u001b[1;37m             ^\u001b[0m\n\u001b[1;31mSyntaxError\u001b[0m\u001b[1;31m:\u001b[0m (unicode error) 'unicodeescape' codec can't decode bytes in position 2-3: truncated \\UXXXXXXXX escape\n"
     ]
    }
   ],
   "source": [
    "# aqi base url https://www.airnowapi.org/aq/observation/zipCode/historical/\n",
    "\n",
    "# reference: https://www.airnowapi.org/aq/observation/zipCode/historical/\n",
    "# ?format=application/json&zipCode=55068&date=2020-10-30T00-0000&distance=25&API_KEY=5ACB0B11-9D7C-40EB-A041-3A07E51C67D8\n",
    "zip_code = 55450 \n",
    "\n",
    "dates = pd.date_range(start=\"2015-01-01\",end=\"2020-10-30\").to_pydatetime().tolist()\n",
    "#.strftime(\"%Y-%m-%d\")\n",
    "#year = dates[0]\n",
    "#month = dates[1]\n",
    "#day = dates[2]\n",
    "\n",
    "aqi_dates = pd.DataFrame(dates)\n",
    "\n",
    "\n",
    "#date_range = pd.DataFrame()\n",
    "#date_range = datetime.date_range(start=\"20150101\",end=\"20201030\").to_pydatetime().tolist()\n",
    "outfile = \"C:\\Users\\Bill\\Documents\\Bootcamp\\Project1\\Air-Quality-BTroolin\\aqi_output.json\"\n",
    "aqi_output = pd.DataFrame()\n",
    "date_observed = []\n",
    "aqi_arr = []\n",
    "# For loop to get individual days of data from AQI API\n",
    "for date in dates:\n",
    "    #print(date)\n",
    "    query_url = f\"https://www.airnowapi.org/aq/observation/zipCode/historical/?format=application/json&distance=0&zipCode={zip_code}&API_KEY=5ACB0B11-9D7C-40EB-A041-3A07E51C67D8&date={date:%Y-%m-%dT00-0000}\"\n",
    "    #print(query_url)\n",
    "    #print(\"https://www.airnowapi.org/aq/observation/zipCode/historical/?format=application/json&zipCode=55450&date=2020-10-30T00-0000&distance=0&API_KEY=5ACB0B11-9D7C-40EB-A041-3A07E51C67D8\")\n",
    "    aqi = requests.get(query_url)\n",
    "    aqi_json = aqi.json()\n",
    "    print(f\"api responded with: {aqi_json}.\")\n",
    "    aqi_arr.append(aqi_json)\n",
    "    json.dump(aqi_arr, outfile)\n",
    "    ###data = json.loads(aqi)\n",
    "    ###with open('data.json', 'w') as outfile:\n",
    "        ###air_arr.append(data)\n",
    "        ###json.dump(aqi_arr, outfile)\n",
    "    \n",
    "    #pd.read_json(aqi)\n",
    "    #print(json.loads(aqi.json, indent=4, sort_keys=True))\n",
    "    #results = aqi\n",
    "    #for f in glob.glob(\"*.json\"):\n",
    "#print(aqi)\n",
    "#print(dates)\n",
    "    #results = aqi\n",
    "    #json_data.append(aqi)\n",
    "    #print(aqi)\n",
    "    #print(json_data)\n",
    "    #aqi_output[\"Name\"] = aqi\n",
    "#print(aqi_output)"
   ]
  },
  {
   "cell_type": "code",
   "execution_count": null,
   "metadata": {},
   "outputs": [],
   "source": []
  },
  {
   "cell_type": "code",
   "execution_count": null,
   "metadata": {},
   "outputs": [],
   "source": []
  }
 ],
 "metadata": {
  "kernelspec": {
   "display_name": "Python 3",
   "language": "python",
   "name": "python3"
  },
  "language_info": {
   "codemirror_mode": {
    "name": "ipython",
    "version": 3
   },
   "file_extension": ".py",
   "mimetype": "text/x-python",
   "name": "python",
   "nbconvert_exporter": "python",
   "pygments_lexer": "ipython3",
   "version": "3.7.9"
  }
 },
 "nbformat": 4,
 "nbformat_minor": 4
}
